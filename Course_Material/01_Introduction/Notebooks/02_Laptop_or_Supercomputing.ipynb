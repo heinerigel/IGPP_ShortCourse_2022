{
 "cells": [
  {
   "cell_type": "markdown",
   "metadata": {},
   "source": [
    "# Computational Meshes\n",
    "\n",
    "#### Laptop or Supercomputer?\n",
    "\n",
    "##### Problem: What is the required size of a computational mesh for the entire (homogeneous) Earth given a target maximum frequency?\n",
    "\n",
    "* What is the velocity?\n",
    "* What is the wavelength given the target frequency?\n",
    "* How many grid points per wavelength do we impose?\n",
    "* What is the size if the corresponding volume element?\n",
    "* How many of those do we need inside the Earth?\n",
    "* What memory does such a field use on a computer (64-bit)?\n",
    "* Laptop or supercomputer?\n",
    "\n"
   ]
  },
  {
   "cell_type": "code",
   "execution_count": null,
   "metadata": {
    "code_folding": [
     0
    ]
   },
   "outputs": [],
   "source": [
    "# imports\n",
    "import numpy as np"
   ]
  },
  {
   "cell_type": "code",
   "execution_count": null,
   "metadata": {},
   "outputs": [],
   "source": [
    "# Physics\n",
    "\n",
    "# Earth's Velocity (S waves have smaller wavelength)\n",
    "c = 10./np.sqrt(3)  # km/s\n",
    "\n",
    "# Target Frequency\n",
    "T = 1.  # Hz  (1 Hz is usually the highets frequency of global wave fields)\n",
    "\n",
    "# Wavelength\n",
    "lam = c * T   # in km\n",
    "\n",
    "print(' Wavelength: ', lam, ' km ')"
   ]
  },
  {
   "cell_type": "code",
   "execution_count": null,
   "metadata": {},
   "outputs": [],
   "source": [
    "# Computational method\n",
    "npts = 20  # number of grid points per wavelength\n",
    "\n",
    "# Required spatial discretization\n",
    "dx = lam/npts # in km \n",
    "\n",
    "# Size of a volume cell\n",
    "dv = dx**3    # in km**3\n",
    "\n",
    "print(' Size of Volume Cell',dv, 'km**3 ')"
   ]
  },
  {
   "cell_type": "code",
   "execution_count": null,
   "metadata": {},
   "outputs": [],
   "source": [
    "# Memory requirement (Volume Earth / dv * 8 bytes)\n",
    "mem = 4./3.*np.pi*6371**3/dv*8\n",
    "\n",
    "print(' Memory requirement : ', mem/1000/1000/1000/1000, 'TBytes')"
   ]
  },
  {
   "cell_type": "code",
   "execution_count": null,
   "metadata": {},
   "outputs": [],
   "source": []
  }
 ],
 "metadata": {
  "kernelspec": {
   "display_name": "Python 3",
   "language": "python",
   "name": "python3"
  },
  "language_info": {
   "codemirror_mode": {
    "name": "ipython",
    "version": 3
   },
   "file_extension": ".py",
   "mimetype": "text/x-python",
   "name": "python",
   "nbconvert_exporter": "python",
   "pygments_lexer": "ipython3",
   "version": "3.8.5"
  }
 },
 "nbformat": 4,
 "nbformat_minor": 4
}
