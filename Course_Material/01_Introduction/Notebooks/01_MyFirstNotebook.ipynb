{
 "cells": [
  {
   "cell_type": "markdown",
   "metadata": {},
   "source": [
    "# My first notebook\n",
    "\n",
    "## Simple Python\n",
    "\n",
    "\n",
    "#### Task: Understand what happens in each cell. Go through the folloing procedures:\n",
    "* Edit cells as markdown or code\n",
    "* Run individual cells (shift-return if forward button)\n",
    "* Run all cells (pulldown menu)\n",
    "* Modify content \n",
    "* Check info on commands, libraries or objects (e.g. print?, or np.[tab], or z.[tab])\n",
    "* Solve programming problem at the bottom"
   ]
  },
  {
   "cell_type": "code",
   "execution_count": null,
   "metadata": {},
   "outputs": [],
   "source": [
    "x = 1.\n",
    "y = 2.5\n",
    "\n",
    "i = 100\n",
    "\n",
    "z = (x * y )/i\n",
    "\n",
    "text = 'This is my first poem'\n",
    "\n",
    "print(x,y,z)\n",
    "print(text)\n"
   ]
  },
  {
   "cell_type": "markdown",
   "metadata": {},
   "source": [
    "## Imports"
   ]
  },
  {
   "cell_type": "code",
   "execution_count": null,
   "metadata": {},
   "outputs": [],
   "source": [
    "import math as m\n",
    "import numpy as np\n",
    "import matplotlib.pyplot as plt"
   ]
  },
  {
   "cell_type": "code",
   "execution_count": null,
   "metadata": {},
   "outputs": [],
   "source": [
    "# Press tab button after . to get info on functions\n",
    "x = m.factorial(0)\n",
    "print(x)\n",
    "\n",
    "# uncomment the hash below and us TAB completion, put cursor behind . and push TAB\n",
    "#np.\n",
    "\n",
    "# to get info on a specific function\n",
    "# np.convolve?"
   ]
  },
  {
   "cell_type": "code",
   "execution_count": null,
   "metadata": {},
   "outputs": [],
   "source": [
    "# Let's play with math module\n",
    "\n",
    "z = m.sin(x*y)\n",
    "# print(z)\n",
    "\n",
    "z = m.factorial(i)\n",
    "print(z)"
   ]
  },
  {
   "cell_type": "markdown",
   "metadata": {},
   "source": [
    "## Vectors and Matrices"
   ]
  },
  {
   "cell_type": "code",
   "execution_count": null,
   "metadata": {},
   "outputs": [],
   "source": [
    "# Initialize space variable\n",
    "n = 100\n",
    "x0 = 0.\n",
    "x1 = 10.\n",
    "x = np.linspace(x0,x1,n)\n",
    "\n",
    "# get the size of a vector\n",
    "print(np.size(x))\n",
    "\n",
    "\n",
    "# Indices start at 0 !!!!!!!\n",
    "print(x[0])"
   ]
  },
  {
   "cell_type": "markdown",
   "metadata": {},
   "source": [
    "## Plotting functions"
   ]
  },
  {
   "cell_type": "code",
   "execution_count": null,
   "metadata": {},
   "outputs": [],
   "source": [
    "# Initialize space in x and y\n",
    "nx = 100\n",
    "ny = 100\n",
    "\n",
    "# initialize x\n",
    "x = np.linspace(0,4*np.pi,nx)\n",
    "\n",
    "# Initialize sin function\n",
    "k = 10.\n",
    "\n",
    "# Sin function\n",
    "# f = np.sin(k*x)\n",
    "\n",
    "# Gauss functions\n",
    "a = 1 \n",
    "x0 = 2*np.pi\n",
    "f = np.exp(-1./a**2  * (x -x0)**2) \n",
    "\n",
    "# Plot function\n",
    "plt.plot(x,f)\n",
    "plt.xlabel('x')\n",
    "plt.ylabel('f(x)')\n",
    "plt.title('Gauss function')\n",
    "plt.show()\n",
    "\n",
    "# Save figure to file\n",
    "#plt.savefig('mygraph.png')"
   ]
  },
  {
   "cell_type": "markdown",
   "metadata": {
    "collapsed": true
   },
   "source": [
    "## 2D Plotting"
   ]
  },
  {
   "cell_type": "code",
   "execution_count": null,
   "metadata": {
    "code_folding": []
   },
   "outputs": [],
   "source": [
    "# Initialize space in x and y\n",
    "nx = 100\n",
    "ny = 100\n",
    "\n",
    "# random numbers in 2D\n",
    "f2 = np.random.rand(nx,ny)\n",
    "\n",
    "plt.imshow(f2)\n",
    "plt.show()"
   ]
  },
  {
   "cell_type": "code",
   "execution_count": null,
   "metadata": {},
   "outputs": [],
   "source": [
    "# Initialize 2D array with coordinates and plot function\n",
    "\n",
    "from matplotlib import cm   # colormaps\n",
    "\n",
    "n = 100\n",
    "# x space between 0 and 10 pi\n",
    "x = np.linspace(0,5*np.pi,n)\n",
    "# y space between 0 and 10 pi\n",
    "y = np.linspace(0,5*np.pi,n)\n",
    "\n",
    "# Eggbox function\n",
    "f = np.zeros((n,n))      # Initialize matrix with zeros\n",
    "  \n",
    "# Loop over coordinates\n",
    "\n",
    "for i in range(n):\n",
    "    for j in range(n):\n",
    "          f[i,j] = np.sin(x[i])*np.cos(y[j])\n",
    "    \n",
    "    \n",
    "# Plotting as image or surface\n",
    "plt.imshow(f)\n",
    "plt.show()\n",
    "\n",
    "# ##################################################################################\n",
    "# A fancy way of initialization and plotting\n",
    "\n",
    "fig = plt.figure()\n",
    "ax = fig.gca(projection='3d')\n",
    "\n",
    "# x space between 0 and 10 pi\n",
    "x = np.linspace(0,5*np.pi,n)\n",
    "# y space between 0 and 10 pi\n",
    "y = np.linspace(0,5*np.pi,n)\n",
    "x, y = np.meshgrid(x, y)\n",
    "z = np.sin(x)*np.cos(y)     # Note we avoid the loop here!\n",
    "\n",
    "# Plot a surface.\n",
    "surf = ax.plot_surface(x, y, z,linewidth=0, cmap=cm.coolwarm, antialiased=False)\n",
    "\n",
    "# Customize the z axis.\n",
    "ax.set_zlim(-1.01, 1.01)\n",
    "\n",
    "# Add a color bar which maps values to colors.\n",
    "fig.colorbar(surf, shrink=0.5, aspect=5)\n",
    "\n",
    "plt.show()"
   ]
  },
  {
   "cell_type": "markdown",
   "metadata": {},
   "source": [
    "## Programming Exercise \n",
    "\n",
    "\n",
    "\n",
    " * Write down the equation for a 2-dimensional Gauss function (simply extend the 1D equation above)\n",
    " \n",
    " $$ f(x,y) = \\exp^{-1/a^2 [(x - x_0)^2 + (y - y_0)^2 ]}$$\n",
    " \n",
    " * Write a python code that initializes a 2-D Gauss function. There are many ways to do it. For code examples check http://www.seismo-live.org \n",
    " * Plot the Gaussian function with imshow (see above or find alternative ways to plot function using matplotlib library)\n",
    " * Calculate analytically the gradient of the Gauss function (d/dx f, d/dy f), write a python code that plots separately the two derivatives of the Gauss function. Also, write down the solution using Latex in a markdown window.\n",
    " \n",
    " By the way ... here is a simple way to include a Graph! C.F. Gauss was a really amazing guy! This is what he looked like:\n",
    " \n",
    " \n",
    " <p style=\"width:20%;float:center;padding-left:50px\">\n",
    "<img src=https://upload.wikimedia.org/wikipedia/commons/9/9b/Carl_Friedrich_Gauss.jpg>\n",
    "<span style=\"font-size:smaller\">\n",
    "</span>\n",
    "</p>\n",
    " \n",
    " "
   ]
  },
  {
   "cell_type": "code",
   "execution_count": null,
   "metadata": {},
   "outputs": [],
   "source": [
    "# Here is space for exercise solution\n"
   ]
  }
 ],
 "metadata": {
  "kernelspec": {
   "display_name": "Python 3",
   "language": "python",
   "name": "python3"
  },
  "language_info": {
   "codemirror_mode": {
    "name": "ipython",
    "version": 3
   },
   "file_extension": ".py",
   "mimetype": "text/x-python",
   "name": "python",
   "nbconvert_exporter": "python",
   "pygments_lexer": "ipython3",
   "version": "3.8.5"
  }
 },
 "nbformat": 4,
 "nbformat_minor": 2
}
