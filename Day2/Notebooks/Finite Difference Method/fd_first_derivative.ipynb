{
 "cells": [
  {
   "cell_type": "markdown",
   "metadata": {},
   "source": [
    "<div style='background-image: url(\"../../share/images/header.svg\") ; padding: 0px ; background-size: cover ; border-radius: 5px ; height: 250px'>\n",
    "    <div style=\"float: right ; margin: 50px ; padding: 20px ; background: rgba(255 , 255 , 255 , 0.7) ; width: 50% ; height: 150px\">\n",
    "        <div style=\"position: relative ; top: 50% ; transform: translatey(-50%)\">\n",
    "            <div style=\"font-size: xx-large ; font-weight: 900 ; color: rgba(0 , 0 , 0 , 0.8) ; line-height: 100%\">Computational Seismology</div>\n",
    "            <div style=\"font-size: large ; padding-top: 20px ; color: rgba(0 , 0 , 0 , 0.5)\">Numerical first derivative</div>\n",
    "        </div>\n",
    "    </div>\n",
    "</div>"
   ]
  },
  {
   "cell_type": "markdown",
   "metadata": {},
   "source": [
    "<p style=\"width:20%;float:right;padding-left:50px\">\n",
    "<img src=../../share/images/book.jpg>\n",
    "<span style=\"font-size:smaller\">\n",
    "</span>\n",
    "</p>\n",
    "\n",
    "\n",
    "---\n",
    "\n",
    "This notebook is part of the supplementary material \n",
    "to [Computational Seismology: A Practical Introduction](https://global.oup.com/academic/product/computational-seismology-9780198717416?cc=de&lang=en&#), \n",
    "Oxford University Press, 2016.\n",
    "\n",
    "\n",
    "---\n",
    "\n",
    "##### Authors:\n",
    "* Kristina Garina\n",
    "* Heiner Igel ([@heinerigel](https://github.com/heinerigel))\n",
    "\n",
    "---"
   ]
  },
  {
   "cell_type": "markdown",
   "metadata": {},
   "source": [
    "### Excercise:\n",
    "Initialise arbitrary analytical function and calculate numerical first derivative with 2-point operator, compare with analytical solution. **Task:** extend scheme to 4 point operator and demonstrate improvement **(see Chapter 4)**\n",
    "\n",
    "---"
   ]
  },
  {
   "cell_type": "markdown",
   "metadata": {},
   "source": [
    "This exercise covers the following aspects:\n",
    "\n",
    "* Calculation of numerical first derivative\n",
    "* Comparison with analytical solution \n",
    "\n",
    "---"
   ]
  },
  {
   "cell_type": "markdown",
   "metadata": {},
   "source": [
    "**Please, execute first!**"
   ]
  },
  {
   "cell_type": "code",
   "execution_count": null,
   "metadata": {
    "code_folding": [
     0
    ],
    "collapsed": true
   },
   "outputs": [],
   "source": [
    "# Import Libraries\n",
    "%matplotlib notebook\n",
    "import numpy as np\n",
    "import math\n",
    "import matplotlib.pyplot as plt\n",
    "\n",
    "plt.style.use(\"ggplot\")"
   ]
  },
  {
   "cell_type": "markdown",
   "metadata": {},
   "source": [
    "We initialise a Gaussian function\n",
    "\n",
    "\\begin{equation} \n",
    "f(t)=\\dfrac{1}{\\sqrt{2 \\pi a}}e^{-\\dfrac{t^2}{2a}}\n",
    "\\end{equation} "
   ]
  },
  {
   "cell_type": "code",
   "execution_count": null,
   "metadata": {
    "code_folding": [],
    "collapsed": true
   },
   "outputs": [],
   "source": [
    "# Initial parameters\n",
    "tmax=10.0                       # maximum time\n",
    "nt=100                       # number of time sample\n",
    "a=1                           # half-width      \n",
    "dt=tmax/nt                    # defining dt\n",
    "t0 = tmax/2                   # defining t0\n",
    "\n",
    "time=np.linspace(0,tmax,nt)   # defining time\n",
    "\n",
    "# Initialization gaussian function with zeros           \n",
    "f=(1./np.sqrt(2*np.pi*a))*np.exp(-(((time-t0)**2)/(2*a)))  # eq.(4.32) p. 80\n",
    "    \n",
    "# Plotting of gaussian\n",
    "plt.figure()\n",
    "plt.plot(time, f)\n",
    "plt.title('Gaussian function')\n",
    "plt.xlabel('Time, s')\n",
    "plt.ylabel('Amplitude')\n",
    "plt.xlim((0, tmax))\n",
    "plt.grid()\n",
    "plt.show()"
   ]
  },
  {
   "cell_type": "markdown",
   "metadata": {
    "collapsed": true
   },
   "source": [
    "In the cell below we calculate numerical derivative using two points\n",
    "\n",
    "\\begin{equation} \n",
    "f^{\\prime}(t)=\\dfrac{f(t+dt)-f(t-dt)}{2dt}\n",
    "\\end{equation} \n",
    "\n",
    "and analytical derivative\n",
    "\\begin{equation} \n",
    "f^{\\prime}(t)=-\\dfrac{t}{a}\\dfrac{1}{\\sqrt{2\\pi a}}e^{-\\dfrac{t^2}{2a}}\n",
    "\\end{equation} "
   ]
  },
  {
   "cell_type": "code",
   "execution_count": null,
   "metadata": {
    "code_folding": [],
    "collapsed": true
   },
   "outputs": [],
   "source": [
    "# First derivative with two points\n",
    "\n",
    "# Initiation of numerical and analytical derivatives \n",
    "nder=np.zeros(nt)          # numerical derivative\n",
    "ader=np.zeros(nt)          # analytical derivative\n",
    "\n",
    "# Numerical derivative of the given function\n",
    "for it in range (1, nt-1):\n",
    "    nder[it]=(f[it+1]-f[it-1])/(2*dt)\n",
    "\n",
    "# Analytical derivative of the given function\n",
    "ader=(-(time-t0)/a)*(1/np.sqrt(2*np.pi*a))*np.exp(-(time-t0)**2/(2*a))     \n",
    "\n",
    "# Plot of the first derivative and analytical derivative\n",
    "plt.figure()\n",
    "plt.plot (time, nder,label=\"Numerical derivative\", lw=2, color=\"yellow\")\n",
    "plt.plot (time, ader, label=\"Analytical derivative\", ls=\"--\",lw=2, color=\"red\")\n",
    "plt.title('First derivative')\n",
    "plt.xlabel('Time, s')\n",
    "plt.ylabel('Amplitude')\n",
    "plt.legend()\n",
    "plt.grid()\n",
    "plt.show()"
   ]
  },
  {
   "cell_type": "markdown",
   "metadata": {},
   "source": [
    "Please, provide in the cell below calculation of the first derivative with four points operator"
   ]
  },
  {
   "cell_type": "code",
   "execution_count": null,
   "metadata": {
    "code_folding": [],
    "collapsed": true
   },
   "outputs": [],
   "source": [
    "# First derivative with four points\n",
    "\n",
    "# Initiation of derivative\n",
    "ffder=np.zeros(nt) \n",
    "\n",
    "# Type your code here:  \n",
    "for it in range (2, nt-2):\n",
    "    #ffder[it]=\n",
    "\n",
    "# Plotting \n",
    "plt.figure()\n",
    "plt.plot (time, nder,label=\"Derivative, 2 points\", lw=2, color=\"violet\")\n",
    "plt.plot (time, ffder, label=\"Derivative, 4 points\", lw=2, ls=\"--\")\n",
    "plt.title('First derivative')\n",
    "plt.xlabel('Time, s')\n",
    "plt.ylabel('Amplitude')\n",
    "plt.legend()\n",
    "plt.grid()\n",
    "plt.show()"
   ]
  },
  {
   "cell_type": "code",
   "execution_count": null,
   "metadata": {
    "collapsed": true
   },
   "outputs": [],
   "source": []
  }
 ],
 "metadata": {
  "anaconda-cloud": {},
  "kernelspec": {
   "display_name": "Python 3",
   "language": "python",
   "name": "python3"
  },
  "language_info": {
   "codemirror_mode": {
    "name": "ipython",
    "version": 3
   },
   "file_extension": ".py",
   "mimetype": "text/x-python",
   "name": "python",
   "nbconvert_exporter": "python",
   "pygments_lexer": "ipython3",
   "version": "3.6.3"
  }
 },
 "nbformat": 4,
 "nbformat_minor": 1
}
