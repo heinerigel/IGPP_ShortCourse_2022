{
 "cells": [
  {
   "cell_type": "markdown",
   "metadata": {},
   "source": [
    "<div style='background-image: url(\"../../share/images/header.svg\") ; padding: 0px ; background-size: cover ; border-radius: 5px ; height: 250px'>\n",
    "    <div style=\"float: right ; margin: 50px ; padding: 20px ; background: rgba(255 , 255 , 255 , 0.7) ; width: 50% ; height: 150px\">\n",
    "        <div style=\"position: relative ; top: 50% ; transform: translatey(-50%)\">\n",
    "            <div style=\"font-size: xx-large ; font-weight: 900 ; color: rgba(0 , 0 , 0 , 0.8) ; line-height: 100%\">Computational Seismology</div>\n",
    "            <div style=\"font-size: large ; padding-top: 20px ; color: rgba(0 , 0 , 0 , 0.5)\">Finite Differences - Advection Equation in 1D</div>\n",
    "        </div>\n",
    "    </div>\n",
    "</div>"
   ]
  },
  {
   "cell_type": "markdown",
   "metadata": {},
   "source": [
    "\n",
    "<p style=\"width:20%;float:right;padding-left:50px\">\n",
    "<img src=../../share/images/book.jpg>\n",
    "<span style=\"font-size:smaller\">\n",
    "</span>\n",
    "</p>\n",
    "\n",
    "\n",
    "---\n",
    "\n",
    "This notebook is part of the supplementary material \n",
    "to [Computational Seismology: A Practical Introduction](https://global.oup.com/academic/product/computational-seismology-9780198717416?cc=de&lang=en&#), \n",
    "Oxford University Press, 2016.\n",
    "\n",
    "##### Authors:\n",
    "* Lion Krischer ([@krischer](https://github.com/krischer))\n",
    "* Heiner Igel ([@heinerigel](https://github.com/heinerigel))\n",
    "---"
   ]
  },
  {
   "cell_type": "markdown",
   "metadata": {},
   "source": [
    "This exercise illustrates two types of finite difference schemes and their stability when solving the one-dimensional advection equation.\n",
    "\n",
    "---\n",
    "\n",
    "### Exercise\n",
    "\n",
    "The source-free advection equation is given by\n",
    "\n",
    "$$\n",
    "\\partial_t u(x, t) = v \\partial_x u(x, t)\n",
    "$$\n",
    "\n",
    "where $u(x,t = 0)$ could be a displacement waveform at $t = 0$ (an initial condition) that is advected with velocity $v$. Replace the partial derivatives by finite-differences. Which approach do you expect to work best? Turn it into a programming exercise and write a simple finite-difference code and play around with different schemes (centered vs. non-centered finite differences). What do you observe?\n",
    "\n",
    "---"
   ]
  },
  {
   "cell_type": "markdown",
   "metadata": {},
   "source": [
    "#### Imports\n",
    "\n",
    "The `matplotlib.use(\"nbagg\")` line makes sure plots are done in the notebook at not in an external window.",
   ]
  },
  {
   "cell_type": "code",
   "execution_count": null,
   "metadata": {
    "code_folding": [
     0
    ],
    "collapsed": false
   },
   "outputs": [],
   "source": [
    "# This is a configuration step for the exercise. Please run it before the simulation code!\n",
    "import numpy as np\n",
    "import matplotlib\n",
    "# Show Plot in The Notebook\n",
    "matplotlib.use(\"nbagg\")\n",
    "import matplotlib.pyplot as plt"
   ]
  },
  {
   "cell_type": "markdown",
   "metadata": {},
   "source": [
    "---\n",
    "\n",
    "#### Setup\n",
    "\n",
    "This block initializes all necessary variables, arrays, and sets the initial conditions."
   ]
  },
  {
   "cell_type": "code",
   "execution_count": null,
   "metadata": {
    "collapsed": false
   },
   "outputs": [],
   "source": [
    "# Setup\n",
    "nx = 1250          # Number of grid points.\n",
    "v = 5500.          # Acoustic velocity in m/s.\n",
    "x_max = 10000      # Length of the domain in m.\n",
    "eps = 0.5          # CFL\n",
    "tmax = 1.0         # Simulation time in s\n",
    "isnap = 2          # Plot the solution each `isnap` timesteps.\n",
    "sig = 100          # Sigma for the gaussian source time function\n",
    "x0 = 1000          # Center point of the source time function\n",
    "\n",
    "# Choose between a \"upwind\" and a \"centered\" finite difference scheme.\n",
    "# Upwind is not yet implemented, you have to implement it.\n",
    "# fd_type = \"upwind\"\n",
    "fd_type = \"centered\"\n",
    "\n",
    "# Spatial setup\n",
    "x = np.linspace(0, x_max, nx)\n",
    "dx = x[1] - x[0]\n",
    "\n",
    "# Use wave based CFL criterion, time step will be calculated from stability criterion\n",
    "dt = eps * dx / v\n",
    "\n",
    "# Simulation time\n",
    "nt = int(tmax / dt)\n",
    "\n",
    "# Initial condition in space.\n",
    "sx = np.exp(-1.0 / sig ** 2.0 * (x - x0) ** 2.0);\n",
    "\n",
    "# Initialize fields\n",
    "u = sx\n",
    "unew = np.zeros(nx)\n",
    "du = np.zeros(nx)\n",
    "\n",
    "# Plot the initial condition before simulating\n",
    "plt.close()\n",
    "plt.ioff()\n",
    "plt.figure(figsize=(12, 4.5))\n",
    "plt.title(\"Initial Conditions\")\n",
    "plt.grid()\n",
    "plt.plot(x, u, color=\"black\", lw=2)\n",
    "plt.xlabel(\"x (m)\")\n",
    "plt.ylabel(\"Amplitude\")\n",
    "plt.show()"
   ]
  },
  {
   "cell_type": "markdown",
   "metadata": {},
   "source": [
    "--- \n",
    "\n",
    "#### Time Loop"
   ]
  },
  {
   "cell_type": "code",
   "execution_count": null,
   "metadata": {
    "collapsed": false
   },
   "outputs": [],
   "source": [
    "# Advection Equation - Time Extrapolation\n",
    "\n",
    "# Close plots, plot the initial condition for comparison \n",
    "plt.close()\n",
    "plt.figure(figsize=(12, 4.5))\n",
    "\n",
    "lines = plt.plot(x, u, color=\"black\", lw=1.5, label=\"Current State\")\n",
    "plt.plot(x, u, color=\"0.5\", ls=\"--\", lw=1, label=\"Initial State\")\n",
    "\n",
    "plt.xlabel(\"x (m)\")\n",
    "plt.ylabel(\"Amplitude\")\n",
    "if fd_type == \"upwind\":\n",
    "    title = \"Upwind finite-difference scheme\"\n",
    "elif fd_type == \"centered\":\n",
    "    title = \"Centered finite-difference scheme\"\n",
    "else:\n",
    "    raise ValueError(\"fd_type must be 'forward' or 'centered'\")\n",
    "\n",
    "plt.grid()\n",
    "plt.ylim(u.min(), u.max() * 1.1)\n",
    "plt.legend()\n",
    "plt.ion()\n",
    "plt.show()\n",
    "\n",
    "\n",
    "# Here we start the actual time extrapolation, the task for you is to calculate \n",
    "# the space derivative of u(x) and write it into du(x) \n",
    "\n",
    "for i in range(nt):\n",
    "    du[:] = 0.0\n",
    "    for j in range(1, nx - 1):\n",
    "        if fd_type == \"upwind\":\n",
    "            # IMPLEMENT UPWIND SCHEME HERE!\n",
    "            pass\n",
    "            \n",
    "        elif fd_type == \"centered\":\n",
    "            du[j] = (u[j + 1] - u[j - 1]) / (2.0 * dx)\n",
    "\n",
    "    # time extrapolation scheme (Euler)\n",
    "    unew = u - dt * v * du\n",
    "\n",
    "    # The new presence is the current future!\n",
    "    u = unew\n",
    "    \n",
    "    # Update plot if desired.\n",
    "    if not i % isnap:\n",
    "        for l in lines:\n",
    "            l.remove()\n",
    "            del l\n",
    "        lines = plt.plot(x, unew, color=\"black\", lw=1.5)\n",
    "        plt.title(title + \", time step: %i, time: %.2g s\" % (i, i * dt))\n",
    "        plt.gcf().canvas.draw()\n",
    "    \n",
    "\n",
    "    \n",
    "plt.ioff()\n",
    "plt.show()"
   ]
  },
  {
   "cell_type": "code",
   "execution_count": null,
   "metadata": {
    "collapsed": false
   },
   "outputs": [],
   "source": []
  }
 ],
 "metadata": {
  "anaconda-cloud": {},
  "kernelspec": {
   "display_name": "Python 3",
   "language": "python",
   "name": "python3"
  },
  "language_info": {
   "codemirror_mode": {
    "name": "ipython",
    "version": 3
   },
   "file_extension": ".py",
   "mimetype": "text/x-python",
   "name": "python",
   "nbconvert_exporter": "python",
   "pygments_lexer": "ipython3",
   "version": "3.5.1"
  }
 },
 "nbformat": 4,
 "nbformat_minor": 0
}
